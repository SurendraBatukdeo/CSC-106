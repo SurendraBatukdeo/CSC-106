{
 "cells": [
  {
   "cell_type": "markdown",
   "id": "bcf4c24c",
   "metadata": {},
   "source": [
    "# Lambda functions"
   ]
  },
  {
   "cell_type": "raw",
   "id": "dcce93b2",
   "metadata": {},
   "source": [
    "- anonymous functions\n",
    "\n",
    "- any number of arguments\n",
    "\n",
    "- restricted to a single expression\n"
   ]
  },
  {
   "cell_type": "markdown",
   "id": "306b16ab",
   "metadata": {},
   "source": [
    "Syntax: lambda arguments : expression"
   ]
  },
  {
   "cell_type": "markdown",
   "id": "7fc7d4e1",
   "metadata": {},
   "source": [
    "# Applications "
   ]
  },
  {
   "cell_type": "markdown",
   "id": "c54c9dc7",
   "metadata": {},
   "source": [
    "Lambda enables you to use functions with pre-trained machine learning (ML) models to inject artiﬁcial intelligence into applications more easily. A single application programming interface (API) request can classify images, analyze videos, convert speech to text, perform natural language processing, and more."
   ]
  },
  {
   "cell_type": "markdown",
   "id": "18a2e10c",
   "metadata": {},
   "source": [
    "AWS Lambda is a serverless compute service that runs your code in response to events and automatically manages the underlying compute resources for you. These events may include changes in state or an update, such as a user placing an item in a shopping cart on an ecommerce website.\n"
   ]
  },
  {
   "cell_type": "markdown",
   "id": "971db165",
   "metadata": {},
   "source": [
    "# Examples"
   ]
  },
  {
   "cell_type": "markdown",
   "id": "e9093888",
   "metadata": {},
   "source": [
    "example : using built in "
   ]
  },
  {
   "cell_type": "code",
   "execution_count": null,
   "id": "8d6514e0",
   "metadata": {},
   "outputs": [],
   "source": [
    "\n",
    "School = 'University of Mary'\n",
    "upper = lambda string: string.lower()\n",
    "print(upper(School)) \n"
   ]
  },
  {
   "cell_type": "markdown",
   "id": "8b860d77",
   "metadata": {},
   "source": [
    "String lower() is an in-built function in Python, that converts all the letters in a string to lowercase(capital) and then returns it. "
   ]
  },
  {
   "cell_type": "markdown",
   "id": "6125df6d",
   "metadata": {},
   "source": [
    "lambda arguments : expression<br>\n",
    "\n",
    "lambda string : string.lower()  "
   ]
  },
  {
   "cell_type": "markdown",
   "id": "bc1d4da0",
   "metadata": {},
   "source": [
    "example : equivalent to def"
   ]
  },
  {
   "cell_type": "code",
   "execution_count": null,
   "id": "0b256125",
   "metadata": {},
   "outputs": [],
   "source": [
    "def square(y):\n",
    "    return y*y"
   ]
  },
  {
   "cell_type": "code",
   "execution_count": null,
   "id": "b301943b",
   "metadata": {},
   "outputs": [],
   "source": [
    "square_lambda = lambda y: y*y"
   ]
  },
  {
   "cell_type": "code",
   "execution_count": null,
   "id": "59e14e6d",
   "metadata": {},
   "outputs": [],
   "source": [
    "if(square(2) == square_lambda(2)):\n",
    "    print(\"They produce the same result\")"
   ]
  },
  {
   "cell_type": "raw",
   "id": "ea301174",
   "metadata": {},
   "source": [
    "More examples"
   ]
  },
  {
   "cell_type": "code",
   "execution_count": null,
   "id": "ac1e4c67",
   "metadata": {},
   "outputs": [],
   "source": [
    "Min = lambda a, b : a if(a < b) else b\n",
    "print(Min(2, 1))\n"
   ]
  },
  {
   "cell_type": "raw",
   "id": "a152ada5",
   "metadata": {},
   "source": [
    "Try this : What is the output? "
   ]
  },
  {
   "cell_type": "code",
   "execution_count": null,
   "id": "9d043814",
   "metadata": {},
   "outputs": [],
   "source": [
    "\n",
    "my_number = [1, 2, 3, 4, 5] \n",
    "my_filter = list(filter(lambda x: (x % 2 == 1), my_number)) \n",
    "print(my_filter) \n"
   ]
  },
  {
   "cell_type": "raw",
   "id": "1acb71f4",
   "metadata": {},
   "source": [
    "Question : Change the check operation from a 0 to a 1, what is the filter doing now>\n"
   ]
  },
  {
   "cell_type": "markdown",
   "id": "a700e7cd",
   "metadata": {},
   "source": [
    "# Interview questions "
   ]
  },
  {
   "cell_type": "markdown",
   "id": "233591de",
   "metadata": {},
   "source": [
    "# Question 1"
   ]
  },
  {
   "cell_type": "raw",
   "id": "7a595448",
   "metadata": {},
   "source": [
    "# Anagrams : a word, phrase, or name formed by rearranging the letters of another. \n",
    "\n",
    "angel = glean      arc = car         brag = grab\n",
    "bored = robed      cat = act         cider = cried\n",
    "dusty = study      elbow = below     inch = chin\n",
    "night = thing      peach = cheap     players = parsley\n",
    "sadder = dreads    save = vase       state = taste\n"
   ]
  },
  {
   "cell_type": "raw",
   "id": "a18e00a0",
   "metadata": {},
   "source": [
    "Complete the code to test for anagrams\n",
    "\n",
    "def _____________ (___, ___):\n",
    "    if( sorted(___) == sorted(___) ):\n",
    "        print(\"_____________\")\n",
    "    else:\n",
    "        print(\"_____________\")\n",
    "        "
   ]
  },
  {
   "cell_type": "markdown",
   "id": "17216efd",
   "metadata": {},
   "source": [
    "# Question 2"
   ]
  },
  {
   "cell_type": "raw",
   "id": "6d80e818",
   "metadata": {},
   "source": [
    "Palindrome : A string is said to be a palindrome if the reverse of the string is the same as the string"
   ]
  },
  {
   "cell_type": "raw",
   "id": "74ff016c",
   "metadata": {},
   "source": [
    "Anna, civic kayak, mom, noon, level, madam, radar, racecar, stats"
   ]
  },
  {
   "cell_type": "raw",
   "id": "12b771ad",
   "metadata": {},
   "source": [
    "def ______________(___):\n",
    "    return ___ == ___[::-1]\n",
    "\n",
    "\n",
    "s = \"_________\"\n",
    "result = check_palindrome(___)\n",
    "\n",
    "if result:\n",
    "    print(\"Yes it is\")\n",
    "else:\n",
    "    print(\"No it is not\")\n"
   ]
  },
  {
   "cell_type": "markdown",
   "id": "4f94b95e",
   "metadata": {},
   "source": [
    "# Exercise "
   ]
  },
  {
   "cell_type": "code",
   "execution_count": null,
   "id": "cbaf84a1",
   "metadata": {},
   "outputs": [],
   "source": [
    "#Complete the sort exercise. "
   ]
  },
  {
   "cell_type": "code",
   "execution_count": 35,
   "id": "33ca1872",
   "metadata": {},
   "outputs": [
    {
     "name": "stdout",
     "output_type": "stream",
     "text": [
      "5\n",
      "[-4, -1, 5, 6, 7]\n"
     ]
    }
   ],
   "source": [
    "array = [-1,5,6,-4,7]\n",
    "print(len(array))\n",
    "\n",
    "for i in range(len(array)):\n",
    "    for i in range(len(array)-1):\n",
    "        if(array[i] > array[i+1]):\n",
    "            array[i], array[i+1] = array[i+1], array[i]\n",
    "            \n",
    "print(array)  \n",
    "            "
   ]
  },
  {
   "cell_type": "code",
   "execution_count": 36,
   "id": "568530a8",
   "metadata": {},
   "outputs": [
    {
     "data": {
      "text/plain": [
       "[-4, -1, 5, 6, 7]"
      ]
     },
     "execution_count": 36,
     "metadata": {},
     "output_type": "execute_result"
    }
   ],
   "source": [
    "array"
   ]
  },
  {
   "cell_type": "code",
   "execution_count": null,
   "id": "845b4785",
   "metadata": {},
   "outputs": [],
   "source": []
  },
  {
   "cell_type": "code",
   "execution_count": null,
   "id": "90deae2f",
   "metadata": {},
   "outputs": [],
   "source": []
  }
 ],
 "metadata": {
  "kernelspec": {
   "display_name": "Python 3 (ipykernel)",
   "language": "python",
   "name": "python3"
  },
  "language_info": {
   "codemirror_mode": {
    "name": "ipython",
    "version": 3
   },
   "file_extension": ".py",
   "mimetype": "text/x-python",
   "name": "python",
   "nbconvert_exporter": "python",
   "pygments_lexer": "ipython3",
   "version": "3.11.5"
  }
 },
 "nbformat": 4,
 "nbformat_minor": 5
}
