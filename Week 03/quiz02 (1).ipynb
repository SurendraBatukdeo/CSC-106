{
 "cells": [
  {
   "cell_type": "markdown",
   "id": "4a356209",
   "metadata": {},
   "source": [
    "# Escape Sequence Characters"
   ]
  },
  {
   "cell_type": "markdown",
   "id": "fa0b00f0",
   "metadata": {},
   "source": [
    "# Examples"
   ]
  },
  {
   "cell_type": "code",
   "execution_count": 1,
   "id": "bbe6c20a",
   "metadata": {},
   "outputs": [
    {
     "name": "stdout",
     "output_type": "stream",
     "text": [
      "\n",
      "Hallo\n"
     ]
    }
   ],
   "source": [
    "print(\"\\nHallo\")"
   ]
  },
  {
   "cell_type": "code",
   "execution_count": 2,
   "id": "0cec6b43",
   "metadata": {},
   "outputs": [
    {
     "name": "stdout",
     "output_type": "stream",
     "text": [
      "\n",
      "\n",
      "Hallo\n"
     ]
    }
   ],
   "source": [
    "print(\"\\n\\nHallo\")"
   ]
  },
  {
   "cell_type": "code",
   "execution_count": 3,
   "id": "516af56d",
   "metadata": {},
   "outputs": [
    {
     "name": "stdout",
     "output_type": "stream",
     "text": [
      "\tHallo\n"
     ]
    }
   ],
   "source": [
    "print(\"\\tHallo\")"
   ]
  },
  {
   "cell_type": "code",
   "execution_count": 4,
   "id": "873dee1a",
   "metadata": {},
   "outputs": [
    {
     "name": "stdout",
     "output_type": "stream",
     "text": [
      "                          Hallo\n"
     ]
    }
   ],
   "source": [
    "print(\"                          Hallo\")"
   ]
  },
  {
   "cell_type": "code",
   "execution_count": null,
   "id": "307200b9",
   "metadata": {},
   "outputs": [],
   "source": []
  },
  {
   "cell_type": "markdown",
   "id": "251c6bb4",
   "metadata": {},
   "source": [
    "# Question"
   ]
  },
  {
   "cell_type": "raw",
   "id": "0f13512d",
   "metadata": {},
   "source": [
    "Using '*' (star) and Escape Sequence Characters create the shape 'M' in University of Mary.  \n"
   ]
  },
  {
   "cell_type": "raw",
   "id": "1e8c933d",
   "metadata": {},
   "source": [
    "End of quiz"
   ]
  },
  {
   "cell_type": "code",
   "execution_count": null,
   "id": "7173f8e7",
   "metadata": {},
   "outputs": [],
   "source": []
  }
 ],
 "metadata": {
  "kernelspec": {
   "display_name": "Python 3 (ipykernel)",
   "language": "python",
   "name": "python3"
  },
  "language_info": {
   "codemirror_mode": {
    "name": "ipython",
    "version": 3
   },
   "file_extension": ".py",
   "mimetype": "text/x-python",
   "name": "python",
   "nbconvert_exporter": "python",
   "pygments_lexer": "ipython3",
   "version": "3.11.5"
  }
 },
 "nbformat": 4,
 "nbformat_minor": 5
}
