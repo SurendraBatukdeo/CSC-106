{
 "cells": [
  {
   "cell_type": "code",
   "execution_count": 1,
   "id": "f13e4afe-283d-45ec-ad07-fe8c517fa46b",
   "metadata": {},
   "outputs": [
    {
     "name": "stdout",
     "output_type": "stream",
     "text": [
      "Based on your your animal the best time to hunt is from 8/30 to 3/31\n",
      "The best weapon for killing mountain lion is a rifle\n"
     ]
    }
   ],
   "source": [
    "import pandas as pd\n",
    "import matplotlib.pyplot as plt\n",
    "import datetime\n",
    "from matplotlib import dates as mdates\n",
    "\n",
    "df = pd.DataFrame([\n",
    "    dict(Task=\"elk\", Start=datetime.date(2024, 3, 1), Finish=datetime.date(2024, 3, 31), Weapon=\"rifle\"),\n",
    "    dict(Task=\"squirrel\", Start=datetime.date(2024, 8, 13), Finish=datetime.date(2024, 9, 18), Weapon=\"shotgun\"),\n",
    "    dict(Task=\"moose\", Start=datetime.date(2024, 9, 17), Finish=datetime.date(2024, 10, 15), Weapon=\"rifle\"),\n",
    "    dict(Task=\"deer\", Start=datetime.date(2024, 10, 20), Finish=datetime.date(2024, 11, 12), Weapon=\"rifle\"),\n",
    "    dict(Task=\"whitetail deer\", Start=datetime.date(2024, 10, 29), Finish=datetime.date(2024, 11, 29), Weapon=\"rifle\"),\n",
    "    dict(Task='coyote', Start=datetime.date(2024,3,31), Finish=datetime.date(2025,4,1), Weapon=\"rifle\"),\n",
    "    dict(Task='mountain lion', Finish=datetime.date(2025,3,31), Start=datetime.date(2024,8,30), Weapon=\"rifle\"),\n",
    "    dict(Task='mink', Finish=datetime.date(2025,5,10), Start=datetime.date(2024,11,25), Weapon=\"shotgun\"),\n",
    "    dict(Task='geese', Start=datetime.date(2024,9,21), Finish=datetime.date(2024,12,27), Weapon=\"shotgun\"),\n",
    "    dict(Task='pronghorn', Start=datetime.date(2024,8,30), Finish=datetime.date(2024,9,22), Weapon = \"bow\"),\n",
    "    dict(Task='turkey', Start=datetime.date(2024,10,12), Finish=datetime.date(2025,1,5), Weapon=\"rifle\"),\n",
    "    dict(Task='sandhill crane', Start=datetime.date(2024,9,14), Finish=datetime.date(2024,11,10), Weapon=\"shotgun\"),\n",
    "])\n",
    "\n",
    "matched = False;\n",
    "while not matched:\n",
    "    animal = str(input('Enter an animal you want to hunt: '))\n",
    "\n",
    "    for index, row in df.iterrows():\n",
    "        if row[\"Task\"] == animal:\n",
    "            matched = True\n",
    "            print(\"Based on your your animal the best time to hunt is from \" + \n",
    "                  str(row[\"Start\"].month) + \"/\" + str(row[\"Start\"].day) +\" to \" + \n",
    "                  str(row[\"Finish\"].month) + \"/\" + str(row[\"Finish\"].day))\n",
    "            print(\"The best weapon for killing \" + animal + \" is a \" + row[\"Weapon\"])\n",
    "            break\n",
    "    if matched == False:\n",
    "        print(\"You entered an invalid animal, please try again.\")\n",
    "    else:\n",
    "        break"
   ]
  },
  {
   "cell_type": "code",
   "execution_count": null,
   "id": "744c9716-b3cb-4a96-a7d1-4d0fcf4b3382",
   "metadata": {},
   "outputs": [],
   "source": []
  }
 ],
 "metadata": {
  "kernelspec": {
   "display_name": "base",
   "language": "python",
   "name": "python3"
  },
  "language_info": {
   "codemirror_mode": {
    "name": "ipython",
    "version": 3
   },
   "file_extension": ".py",
   "mimetype": "text/x-python",
   "name": "python",
   "nbconvert_exporter": "python",
   "pygments_lexer": "ipython3",
   "version": "3.12.4"
  }
 },
 "nbformat": 4,
 "nbformat_minor": 5
}
