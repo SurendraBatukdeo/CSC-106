{
 "cells": [
  {
   "cell_type": "markdown",
   "id": "204f8c83",
   "metadata": {},
   "source": [
    "# Question 1"
   ]
  },
  {
   "cell_type": "raw",
   "id": "6eae79c4",
   "metadata": {},
   "source": [
    "What is the output of the individual cells. (1 point each)\n",
    "If there is an error on any of the cells, report the error. (1 point each)\n",
    "Propose a fix for the error. (1 point each)"
   ]
  },
  {
   "cell_type": "markdown",
   "id": "2ef1f70a",
   "metadata": {},
   "source": [
    "# CELL 1"
   ]
  },
  {
   "cell_type": "code",
   "execution_count": 3,
   "id": "f51e2cf9",
   "metadata": {},
   "outputs": [
    {
     "name": "stdout",
     "output_type": "stream",
     "text": [
      "Hallo Class\n"
     ]
    }
   ],
   "source": [
    "print(\"Hallo Class\")"
   ]
  },
  {
   "cell_type": "code",
   "execution_count": null,
   "id": "be4c6699",
   "metadata": {},
   "outputs": [],
   "source": []
  }
 ],
 "metadata": {
  "kernelspec": {
   "display_name": "Python 3 (ipykernel)",
   "language": "python",
   "name": "python3"
  },
  "language_info": {
   "codemirror_mode": {
    "name": "ipython",
    "version": 3
   },
   "file_extension": ".py",
   "mimetype": "text/x-python",
   "name": "python",
   "nbconvert_exporter": "python",
   "pygments_lexer": "ipython3",
   "version": "3.11.5"
  }
 },
 "nbformat": 4,
 "nbformat_minor": 5
}
