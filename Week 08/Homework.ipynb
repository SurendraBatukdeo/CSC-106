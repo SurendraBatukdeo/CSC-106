{
 "cells": [
  {
   "cell_type": "markdown",
   "id": "c6fb69f9",
   "metadata": {},
   "source": [
    "# Homework"
   ]
  },
  {
   "cell_type": "markdown",
   "id": "7a8db0f2",
   "metadata": {},
   "source": [
    "Wake up call at 5am. "
   ]
  },
  {
   "cell_type": "raw",
   "id": "43c9fed0",
   "metadata": {},
   "source": [
    "Write a a function to greet this customers in the respective hotels.\n",
    "Hotels = [\"Hyatt\", \"Hilton\", \"Marriott\"]\n",
    "Names = [\"Michelle\", \"Kim\", \"Miguel\"] \n",
    "\n",
    "Output : Good morning [customer], Welcome to [Hotel].\n",
    "         pause for 2 seconds.\n",
    "         Have a wonderful stay.  "
   ]
  },
  {
   "cell_type": "raw",
   "id": "fcbc9e3d",
   "metadata": {},
   "source": [
    "Clue : \n",
    "\n",
    "def customer_greetings(Hotels):\n",
    "  for x in Hotels:\n",
    "    print(\"Howdy \" + x)\n",
    "\n",
    "customers = [\"Michelle\", \"Kim\", \"Miguel\"]\n",
    "        \n",
    "        \n",
    "from datetime import datetime\n",
    "now = datetime.now()\n",
    "current_time = now.strftime(\"%H:%M:%S\")\n",
    "print(\"Current Time =\", current_time)\n"
   ]
  },
  {
   "cell_type": "raw",
   "id": "847f60c4",
   "metadata": {},
   "source": [
    "Readme : Create a csv file on Github with Customer Information.\n",
    "         Set 3 different wakeup call time for the 3 customers. \n",
    "        "
   ]
  },
  {
   "cell_type": "raw",
   "id": "5abf8f18",
   "metadata": {},
   "source": [
    "End of Homework"
   ]
  },
  {
   "cell_type": "code",
   "execution_count": null,
   "id": "319655bf",
   "metadata": {},
   "outputs": [],
   "source": []
  }
 ],
 "metadata": {
  "kernelspec": {
   "display_name": "Python 3 (ipykernel)",
   "language": "python",
   "name": "python3"
  },
  "language_info": {
   "codemirror_mode": {
    "name": "ipython",
    "version": 3
   },
   "file_extension": ".py",
   "mimetype": "text/x-python",
   "name": "python",
   "nbconvert_exporter": "python",
   "pygments_lexer": "ipython3",
   "version": "3.11.5"
  }
 },
 "nbformat": 4,
 "nbformat_minor": 5
}
